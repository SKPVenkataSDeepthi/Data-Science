{
 "cells": [
  {
   "cell_type": "markdown",
   "id": "a07636f5-b1fc-40af-871a-e30d1852cfed",
   "metadata": {},
   "source": [
    "# Introduction to Pandas\n",
    "\n",
    "* Pandas is a powerful data manipulation and analysis library for Python. It provides data structures like series and dataframes to effectively easily clean, transform, and analyze large datasets and integrates seamlessly with other python libraries, such as numPy and matplotlib. It offers powerful functions for data transformation, aggregation, and visualization, which are crucial for effective analysis.\n",
    "\n",
    "* Pandas revolves around two primary data structures: series (1D) for single columns and dataframe (2D) for tabular data, enabling efficient data manipulation.\n",
    "\n",
    "* Think of it like a super-powered spreadsheet that can hold a lot of information in an organized way. It helps you store and manipulate data, like sorting it, filtering out certain details, or even combining information from different sources.\n",
    "\n",
    "* For example, imagine you have a list of students and their scores in different subjects. With Pandas, you can easily find the highest score, calculate averages, or even group students by their scores. You can also clean up messy data—like removing empty or incorrect information—so everything is neat and ready for analysis.\n",
    "\n",
    "\n"
   ]
  },
  {
   "cell_type": "markdown",
   "id": "2d59a77d-cd07-4884-a74c-38ea3a4b412e",
   "metadata": {},
   "source": [
    "# Creating Pandas DataFrame\n",
    "* Pandas DataFrame will be created by loading the datasets from existing storage, storage can be SQL Database, CSV file, and Excel file. Pandas DataFrame can be created from the lists, dictionary, and from a list of dictionary etc.\n",
    "\n",
    "* Imagine you have a table of data, like an Excel sheet or a list of information. Each row in the table represents a person or an item, and each column holds a specific type of information about them, like their name, age, or score.\n",
    "\n",
    "* In the world of programming, we can create this type of table (called a DataFrame) using something called Pandas, which is like a super-powered spreadsheet. Here's how you can think of it:\n",
    "\n",
    "* Create the table (DataFrame):\n",
    "Think of a DataFrame as a big box where you can store lots of rows and columns. Each column can have a different kind of information (like numbers, words, or dates), and each row represents a single record, like a person or an event.\n",
    "\n",
    "* Putting data into the table:\n",
    "You create a DataFrame by telling it what kind of information you have. For example, you could say, \"I have a list of names and ages,\" and Pandas will organize that data into columns for you."
   ]
  },
  {
   "cell_type": "code",
   "execution_count": 3,
   "id": "64b27a8f-784a-4ac5-8681-cd09f4d6c023",
   "metadata": {},
   "outputs": [
    {
     "name": "stdout",
     "output_type": "stream",
     "text": [
      "Empty DataFrame\n",
      "Columns: []\n",
      "Index: []\n"
     ]
    }
   ],
   "source": [
    "##### Creating Empty DataFrame:\n",
    "\n",
    "# import pandas as pd\n",
    "import pandas as pd\n",
    " \n",
    "# Calling DataFrame constructor\n",
    "df = pd.DataFrame()\n",
    " \n",
    "print(df)"
   ]
  },
  {
   "cell_type": "code",
   "execution_count": 4,
   "id": "a900b28a-76eb-45c8-a1dc-4740db369fe6",
   "metadata": {},
   "outputs": [
    {
     "name": "stdout",
     "output_type": "stream",
     "text": [
      "               0\n",
      "0          Pilot\n",
      "1       Aircraft\n",
      "2       Altitude\n",
      "3         Runway\n",
      "4  Control Tower\n",
      "5    Flight Plan\n",
      "6        Cockpit\n",
      "7        Takeoff\n",
      "8        Landing\n",
      "9     Turbulence\n"
     ]
    }
   ],
   "source": [
    "##### Creating a dataframe using list\n",
    "\n",
    "# import pandas as pd\n",
    "import pandas as pd\n",
    " \n",
    "# list of strings\n",
    "aviation_lst = ['Pilot', 'Aircraft', 'Altitude', 'Runway', 'Control Tower', 'Flight Plan', 'Cockpit', 'Takeoff', 'Landing', 'Turbulence']\n",
    "\n",
    "# Calling DataFrame constructor on list\n",
    "df = pd.DataFrame(aviation_lst)\n",
    "print(df)"
   ]
  },
  {
   "cell_type": "code",
   "execution_count": 5,
   "id": "ceed2538-bcc3-4c95-9137-b106961f8415",
   "metadata": {},
   "outputs": [
    {
     "name": "stdout",
     "output_type": "stream",
     "text": [
      "            Name        Catchphrase\n",
      "0         Popeye  I yam what I yam!\n",
      "1  Homer Simpson              D’oh!\n",
      "2     Bugs Bunny    What’s up, Doc?\n",
      "3     Scooby-Doo           Ruh-roh!\n"
     ]
    }
   ],
   "source": [
    "##### Creating dataframe from dict of ndarray/lists:\n",
    "### To create a dataframe from dict of ndarray/list, all narray must be of same length\n",
    "# 1. If index is passed (length of index = length of array)\n",
    "# 2. If no index is passed then by default index will be range(n), where n is the length of the array. \n",
    "\n",
    "data = {'Name': ['Popeye', 'Homer Simpson', 'Bugs Bunny', 'Scooby-Doo'],\n",
    "        'Catchphrase': ['I yam what I yam!', 'D’oh!', 'What’s up, Doc?', 'Ruh-roh!']}\n",
    "\n",
    "# Create DataFrame\n",
    "df = pd.DataFrame(data)\n",
    " \n",
    "# Print the output.\n",
    "print(df)"
   ]
  },
  {
   "cell_type": "code",
   "execution_count": 6,
   "id": "c9b6e4a3-a2bf-4dd6-ad78-7f2f54eb4ed3",
   "metadata": {},
   "outputs": [
    {
     "name": "stdout",
     "output_type": "stream",
     "text": [
      "      dish   cuisine spice_level\n",
      "0  Biryani    Indian        High\n",
      "1    Pasta   Italian      Medium\n",
      "2    Sushi  Japanese         Low\n",
      "3    Tacos   Mexican      Medium\n"
     ]
    }
   ],
   "source": [
    "##### Creating dataframe from lists using dictionary\n",
    "food_dict = {\n",
    "    'dish': [\"Biryani\", \"Pasta\", \"Sushi\", \"Tacos\"],\n",
    "    'cuisine': [\"Indian\", \"Italian\", \"Japanese\", \"Mexican\"],\n",
    "    'spice_level': [\"High\", \"Medium\", \"Low\", \"Medium\"]\n",
    "}\n",
    "\n",
    "df = pd.DataFrame(food_dict)\n",
    "print(df)"
   ]
  },
  {
   "cell_type": "code",
   "execution_count": 7,
   "id": "28c44b58-6cee-4a4f-a22b-5d72e814a0af",
   "metadata": {},
   "outputs": [
    {
     "name": "stdout",
     "output_type": "stream",
     "text": [
      "        Cartoon\n",
      "0   Tom & Jerry\n",
      "1     SpongeBob\n",
      "2        Naruto\n",
      "3  Mickey Mouse\n"
     ]
    }
   ],
   "source": [
    "##### Creating a dataframe from another dataframe\n",
    "import pandas as pd\n",
    "\n",
    "original_df = pd.DataFrame({\n",
    "    'Cartoon': ['Tom & Jerry', 'SpongeBob', 'Naruto', 'Mickey Mouse'],\n",
    "    'Year': [1940, 1999, 2002, 1928]\n",
    "})\n",
    "\n",
    "new_df = original_df[['Cartoon']]  \n",
    "print(new_df)\n"
   ]
  },
  {
   "cell_type": "code",
   "execution_count": 8,
   "id": "5116aa12-afed-4c3c-b380-16fd9d0750c7",
   "metadata": {},
   "outputs": [
    {
     "name": "stdout",
     "output_type": "stream",
     "text": [
      "   Character                    Show\n",
      "a        Tom             Tom & Jerry\n",
      "b  SpongeBob   SpongeBob SquarePants\n",
      "c     Naruto                  Naruto\n",
      "d     Mickey  Mickey Mouse Clubhouse\n"
     ]
    }
   ],
   "source": [
    "##### Creating dataframe from dictionary of series\n",
    "\n",
    "import pandas as pd\n",
    "\n",
    "# Initialize data to Dicts of series.\n",
    "cartoon_data = {\n",
    "    'Character': pd.Series(['Tom', 'SpongeBob', 'Naruto', 'Mickey'], \n",
    "                           index=['a', 'b', 'c', 'd']),\n",
    "    'Show': pd.Series(['Tom & Jerry', 'SpongeBob SquarePants', 'Naruto', 'Mickey Mouse Clubhouse'], \n",
    "                      index=['a', 'b', 'c', 'd'])\n",
    "}\n",
    "\n",
    "# Create DataFrame\n",
    "df = pd.DataFrame(cartoon_data)\n",
    "\n",
    "print(df)\n"
   ]
  },
  {
   "cell_type": "code",
   "execution_count": 9,
   "id": "9f80fbf5-b344-47d2-ab11-9af7bb21d880",
   "metadata": {},
   "outputs": [
    {
     "name": "stdout",
     "output_type": "stream",
     "text": [
      "            Name        Catchphrase\n",
      "0         Popeye  I yam what I yam!\n",
      "1  Homer Simpson              D’oh!\n",
      "2     Bugs Bunny    What’s up, Doc?\n",
      "3     Scooby-Doo           Ruh-roh!\n"
     ]
    }
   ],
   "source": [
    "##### Create dataframe using zip() function --- 2 lists can be merged by using zip() function\n",
    "Name = ['Popeye', 'Homer Simpson', 'Bugs Bunny', 'Scooby-Doo'] # list1\n",
    "\n",
    "Catchphrase = ['I yam what I yam!', 'D’oh!', 'What’s up, Doc?', 'Ruh-roh!']#List 2\n",
    "\n",
    "list_of_tuples = list(zip(Name, Catchphrase))\n",
    "\n",
    "list_of_tuples\n",
    "\n",
    "# Converting lists of tuples into pandas Dataframe.\n",
    "df = pd.DataFrame(list_of_tuples,\n",
    "                  columns=['Name', 'Catchphrase'])\n",
    "\n",
    "print(df)\n",
    "\n",
    "\n"
   ]
  },
  {
   "cell_type": "code",
   "execution_count": 10,
   "id": "9967dc05-4cde-467b-8538-2f38dbf4eaac",
   "metadata": {},
   "outputs": [
    {
     "name": "stdout",
     "output_type": "stream",
     "text": [
      "          dish   cuisine spice_level\n",
      "rank1  Biryani    Indian        High\n",
      "rank2    Pasta   Italian      Medium\n",
      "rank3    Sushi  Japanese         Low\n",
      "rank4    Tacos   Mexican      Medium\n"
     ]
    }
   ],
   "source": [
    "##### Craeting a dataframe by providing the index label\n",
    "food_dict = {\n",
    "    'dish': [\"Biryani\", \"Pasta\", \"Sushi\", \"Tacos\"],\n",
    "    'cuisine': [\"Indian\", \"Italian\", \"Japanese\", \"Mexican\"],\n",
    "    'spice_level': [\"High\", \"Medium\", \"Low\", \"Medium\"]\n",
    "}\n",
    "# Creates pandas DataFrame.\n",
    "df = pd.DataFrame(food_dict, index=['rank1',\n",
    "                               'rank2',\n",
    "                               'rank3',\n",
    "                               'rank4'])\n",
    "\n",
    "# print the data\n",
    "print(df)"
   ]
  },
  {
   "cell_type": "code",
   "execution_count": null,
   "id": "44d2515e-3b5c-42db-a661-6fa3977cbce0",
   "metadata": {},
   "outputs": [],
   "source": []
  }
 ],
 "metadata": {
  "kernelspec": {
   "display_name": "Python 3 (ipykernel)",
   "language": "python",
   "name": "python3"
  },
  "language_info": {
   "codemirror_mode": {
    "name": "ipython",
    "version": 3
   },
   "file_extension": ".py",
   "mimetype": "text/x-python",
   "name": "python",
   "nbconvert_exporter": "python",
   "pygments_lexer": "ipython3",
   "version": "3.12.2"
  }
 },
 "nbformat": 4,
 "nbformat_minor": 5
}
