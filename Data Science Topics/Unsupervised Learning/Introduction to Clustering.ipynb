{
 "cells": [
  {
   "cell_type": "markdown",
   "id": "d432e5ad-a196-40d4-b9d6-ea1885ed1d8f",
   "metadata": {},
   "source": [
    "* Task of grouping data points based on their simillarity with each other is called \"CLUSTERING\" or \"CLUSTER ANALYSIS\". \n",
    "* Here we dont have a target variable\n",
    "* We aim to find homogenous data points from heterogenous dataset.\n",
    "* The shape of clusters is arbitary, it is not necassary that it must be circular.\n",
    "\n",
    "## Types\n",
    "1. Hard Clustering\n",
    "2. SOft cLustering\n",
    "\n",
    "## 1. Hard Clustering\n",
    "Here each data point belongs to cluster completely or not can be told. \n",
    "Eg., I have four data points(A,B,C, D) and I have to group them to two clusters (C1, C2). From this I can say that these four data points either belong to cluster1 C1 or C2. \n",
    "\n",
    "## 2. Soft Clustering\n",
    "Here instead of assigning each data point to seperate cluster we will evaluate the probability or likelihood of that point being a cluster. \n",
    "Again lets say I have four data points(A, B, C, D). I have to cluster them into 2 (C1, C2). So I will be evaluating a probabiilty of data point belonging to both clusters. \n",
    "\n",
    "## Uses\n",
    "* Market Segmentation\n",
    "* Market Basket Analysis\n",
    "* Social Network Analysis\n",
    "* Anamoly Detection\n",
    "\n",
    "## Types of Clustering Algorithms\n",
    "1. Centroid Based Clustering (Partitioning Method)\n",
    "2. Density Based Clustering(Model-Based Methods)\n",
    "3. Connectivity based clustering (Hierarchical clustering)\n",
    "4. Distribution based clustering\n",
    "\n",
    "## 1. Centroid Based Clustering\n",
    "Group data points based on their closeness. Simillarity measures choosen for these algorithms are Euclidean distance, Manhattan distance or Minkowski Distance. Most popular types of clustering are K-Means and K-medois clusteirng. \n",
    "* Has trouble in finding arbitary shaped clusters. \n",
    "\n",
    "## 2. Density Based Clustering\n",
    "Groups data points based on density. This determines the number of clusters automatically and is less susceptible to beginning positions. \n",
    "* These are great at handling clusters of different sizes and forms\n",
    "* The most popular density based algorithm is DBSCAN(Density Based Spatial Clustering of Applications with Noise).\n",
    "\n",
    "## 3. Connectivity based Clustering (Hierarchical Clustering)\n",
    "A method for assembling related data points into hierarchical clusters. Each data point is initially taken into account as a separate cluster, which is subsequently combined with the clusters that are the most similar to form one large cluster that contains all of the data points.\n",
    "It's comparable to classify items according to their trees, where nearest relatives are clustered together and the wider branches signify more general connections. \n",
    "* There are 2 approaches for this clustering:\n",
    "  1. Divisive Clustering:Top - down approach. Here we consider all data points to be part of one big cluster and then this is divided into smaller groups.\n",
    "  2. Agglomerative Clustering: Bottom - up approach. Here we consider al data points to be part of individual clusters, then these are clubbed to make one big cluster with all data points.\n",
    " \n",
    "## 4. Distribution based clustering\n",
    "Data points are generated and organized based on the propensity to fall into the same distibution within the data.\n",
    "Most popular algorithm is Gaussian Mixture Model. \n",
    "\n",
    "\n",
    "\n"
   ]
  },
  {
   "cell_type": "code",
   "execution_count": null,
   "id": "3ac869d5-372d-497a-959c-c026cf30942b",
   "metadata": {},
   "outputs": [],
   "source": []
  }
 ],
 "metadata": {
  "kernelspec": {
   "display_name": "Python 3 (ipykernel)",
   "language": "python",
   "name": "python3"
  },
  "language_info": {
   "codemirror_mode": {
    "name": "ipython",
    "version": 3
   },
   "file_extension": ".py",
   "mimetype": "text/x-python",
   "name": "python",
   "nbconvert_exporter": "python",
   "pygments_lexer": "ipython3",
   "version": "3.12.4"
  }
 },
 "nbformat": 4,
 "nbformat_minor": 5
}
