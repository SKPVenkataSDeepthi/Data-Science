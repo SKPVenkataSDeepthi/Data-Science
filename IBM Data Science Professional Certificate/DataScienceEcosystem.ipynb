{
 "cells": [
  {
   "cell_type": "markdown",
   "id": "a9d16261",
   "metadata": {},
   "source": [
    "# Data Science Tools and Ecosystem"
   ]
  },
  {
   "cell_type": "markdown",
   "id": "15e157cb",
   "metadata": {},
   "source": [
    "In this notebook, Data Science Tools and Ecosystem are summarized."
   ]
  },
  {
   "cell_type": "markdown",
   "id": "992e2711",
   "metadata": {},
   "source": [
    "**Objectives:**\n",
    "\n",
    "- List popular languages for Data Science.\n",
    "- Identify commonly used libraries in data science.\n",
    "- Describe essential data science tools.\n",
    "- Understand basic arithmetic expressions in Python.\n",
    "- Explore the application of data manipulation techniques.\n"
   ]
  },
  {
   "cell_type": "markdown",
   "id": "283bda33",
   "metadata": {},
   "source": [
    "Some of the popular languages that Data Scientists use are:\n",
    "\n",
    "1. **Python**\n",
    "   - Widely used for its simplicity and readability.\n",
    "   - Rich ecosystem with libraries like NumPy, pandas, scikit-learn, and TensorFlow.\n",
    "\n",
    "2. **R**\n",
    "   - Designed specifically for statistical analysis and data visualization.\n",
    "   - Extensive range of packages like ggplot2, dplyr, and caret.\n",
    "\n",
    "3. **SQL**\n",
    "   - Essential for querying and managing databases.\n",
    "   - Integral for data manipulation and retrieval in relational database management systems.\n",
    "\n",
    "4. **Julia**\n",
    "   - Known for its high performance in numerical and scientific computing.\n",
    "   - Combines the ease of Python with the speed of C.\n",
    "\n",
    "5. **Java**\n",
    "   - Useful for large-scale data processing and enterprise-level applications.\n",
    "   - Libraries such as Weka, Deeplearning4j, and Hadoop integration.\n"
   ]
  },
  {
   "cell_type": "markdown",
   "id": "66fe2544",
   "metadata": {},
   "source": [
    "Some of the commonly used libraries used by Data Scientists include:\n",
    "\n",
    "1. **NumPy**\n",
    "   - Fundamental library for numerical computing in Python.\n",
    "   - Provides support for arrays, matrices, and many mathematical functions.\n",
    "\n",
    "2. **pandas**\n",
    "   - Essential for data manipulation and analysis.\n",
    "   - Offers data structures like DataFrames to handle structured data efficiently.\n",
    "\n",
    "3. **scikit-learn**\n",
    "   - Comprehensive library for machine learning in Python.\n",
    "   - Includes tools for classification, regression, clustering, and dimensionality reduction.\n",
    "\n",
    "4. **TensorFlow**\n",
    "   - Open-source library for deep learning and machine learning.\n",
    "   - Developed by Google, it supports neural networks, large-scale machine learning, and various algorithms.\n",
    "\n",
    "5. **matplotlib**\n",
    "   - Plotting library for creating static, animated, and interactive visualizations in Python.\n",
    "   - Integrates well with NumPy and pandas for generating insightful graphs and charts.\n"
   ]
  },
  {
   "cell_type": "markdown",
   "id": "07929ccc",
   "metadata": {},
   "source": [
    "| Data Science Tools          |\n",
    "|-----------------------------|\n",
    "| Jupyter Notebook            |\n",
    "| RStudio                     |\n",
    "| Apache Zeppelin             |\n"
   ]
  },
  {
   "cell_type": "markdown",
   "id": "ff3587c6",
   "metadata": {},
   "source": [
    "### Below are a few examples of evaluating arithmetic expressions in Python.\n"
   ]
  },
  {
   "cell_type": "code",
   "execution_count": 1,
   "id": "9a9a021b",
   "metadata": {},
   "outputs": [
    {
     "data": {
      "text/plain": [
       "17"
      ]
     },
     "execution_count": 1,
     "metadata": {},
     "output_type": "execute_result"
    }
   ],
   "source": [
    "# This is a simple arithmetic expression to multiply then add integers.\n",
    "result = (3 * 4) + 5\n",
    "result\n"
   ]
  },
  {
   "cell_type": "code",
   "execution_count": 2,
   "id": "8d20b339",
   "metadata": {},
   "outputs": [
    {
     "data": {
      "text/plain": [
       "3.3333333333333335"
      ]
     },
     "execution_count": 2,
     "metadata": {},
     "output_type": "execute_result"
    }
   ],
   "source": [
    "# This will convert 200 minutes to hours by dividing by 60.\n",
    "minutes = 200\n",
    "hours = minutes / 60\n",
    "hours\n"
   ]
  },
  {
   "cell_type": "markdown",
   "id": "e7335cff",
   "metadata": {},
   "source": [
    "## Author\n",
    "Venkata Sri Deepthi SKP\n"
   ]
  },
  {
   "cell_type": "code",
   "execution_count": null,
   "id": "e08254f8",
   "metadata": {},
   "outputs": [],
   "source": []
  }
 ],
 "metadata": {
  "kernelspec": {
   "display_name": "Python 3 (ipykernel)",
   "language": "python",
   "name": "python3"
  },
  "language_info": {
   "codemirror_mode": {
    "name": "ipython",
    "version": 3
   },
   "file_extension": ".py",
   "mimetype": "text/x-python",
   "name": "python",
   "nbconvert_exporter": "python",
   "pygments_lexer": "ipython3",
   "version": "3.11.4"
  }
 },
 "nbformat": 4,
 "nbformat_minor": 5
}
